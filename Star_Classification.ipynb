{
  "nbformat": 4,
  "nbformat_minor": 0,
  "metadata": {
    "colab": {
      "name": "Star_Classification.ipynb",
      "provenance": [],
      "collapsed_sections": [],
      "include_colab_link": true
    },
    "kernelspec": {
      "name": "python3",
      "display_name": "Python 3"
    }
  },
  "cells": [
    {
      "cell_type": "markdown",
      "metadata": {
        "id": "view-in-github",
        "colab_type": "text"
      },
      "source": [
        "<a href=\"https://colab.research.google.com/github/aisutd/HackAI-Neural-Network-Workshop/blob/main/Star_Classification.ipynb\" target=\"_parent\"><img src=\"https://colab.research.google.com/assets/colab-badge.svg\" alt=\"Open In Colab\"/></a>"
      ]
    },
    {
      "cell_type": "markdown",
      "metadata": {
        "id": "E7LIqm9eA6Af"
      },
      "source": [
        "<p><img alt=\"Colaboratory logo\" height=\"45px\" src=\"/img/colab_favicon.ico\" align=\"left\" hspace=\"10px\" vspace=\"0px\"></p>\n",
        "\n",
        "# **INTRODUCTION TO NEURAL NETWORKS WITH KERAS**\n",
        "Welcome to the implementation of a basic Keras Neural Network to classify star types.\n",
        "\n",
        "This colab: [Link](https://colab.research.google.com/drive/1L2i3ibwby1nV83EBys2g5dpSDZA2MlAa?usp=sharing)\n",
        "Dataset: [Link](https://www.kaggle.com/deepu1109/star-dataset)\n",
        "\n",
        "---\n",
        "\n",
        "\n"
      ]
    },
    {
      "cell_type": "markdown",
      "metadata": {
        "id": "AkZDNwQzBXsc"
      },
      "source": [
        "##Basic Libraries\n",
        "\n"
      ]
    },
    {
      "cell_type": "code",
      "metadata": {
        "id": "9F4qVEeaXhC2"
      },
      "source": [
        "import numpy as np\n",
        "import pandas as pd"
      ],
      "execution_count": null,
      "outputs": []
    },
    {
      "cell_type": "markdown",
      "metadata": {
        "id": "jNYvxHoIE-KE"
      },
      "source": [
        "##Getting to know the data"
      ]
    },
    {
      "cell_type": "code",
      "metadata": {
        "colab": {
          "base_uri": "https://localhost:8080/",
          "height": 198
        },
        "id": "laD7w-21Xryw",
        "outputId": "615abe64-bfa5-4b0f-cce3-ae8ddc40a476"
      },
      "source": [
        "# https://www.kaggle.com/deepu1109/star-dataset\n",
        "data = pd.read_csv(\"star_data.csv\")\n",
        "data.head()\n",
        "\n",
        "# 7 columns\n",
        "# 240 rows"
      ],
      "execution_count": null,
      "outputs": [
        {
          "output_type": "execute_result",
          "data": {
            "text/html": [
              "<div>\n",
              "<style scoped>\n",
              "    .dataframe tbody tr th:only-of-type {\n",
              "        vertical-align: middle;\n",
              "    }\n",
              "\n",
              "    .dataframe tbody tr th {\n",
              "        vertical-align: top;\n",
              "    }\n",
              "\n",
              "    .dataframe thead th {\n",
              "        text-align: right;\n",
              "    }\n",
              "</style>\n",
              "<table border=\"1\" class=\"dataframe\">\n",
              "  <thead>\n",
              "    <tr style=\"text-align: right;\">\n",
              "      <th></th>\n",
              "      <th>Temperature (K)</th>\n",
              "      <th>Luminosity(L/Lo)</th>\n",
              "      <th>Radius(R/Ro)</th>\n",
              "      <th>Absolute magnitude(Mv)</th>\n",
              "      <th>Star type</th>\n",
              "      <th>Star color</th>\n",
              "      <th>Spectral Class</th>\n",
              "    </tr>\n",
              "  </thead>\n",
              "  <tbody>\n",
              "    <tr>\n",
              "      <th>0</th>\n",
              "      <td>3068</td>\n",
              "      <td>0.002400</td>\n",
              "      <td>0.1700</td>\n",
              "      <td>16.12</td>\n",
              "      <td>0</td>\n",
              "      <td>Red</td>\n",
              "      <td>M</td>\n",
              "    </tr>\n",
              "    <tr>\n",
              "      <th>1</th>\n",
              "      <td>3042</td>\n",
              "      <td>0.000500</td>\n",
              "      <td>0.1542</td>\n",
              "      <td>16.60</td>\n",
              "      <td>0</td>\n",
              "      <td>Red</td>\n",
              "      <td>M</td>\n",
              "    </tr>\n",
              "    <tr>\n",
              "      <th>2</th>\n",
              "      <td>2600</td>\n",
              "      <td>0.000300</td>\n",
              "      <td>0.1020</td>\n",
              "      <td>18.70</td>\n",
              "      <td>0</td>\n",
              "      <td>Red</td>\n",
              "      <td>M</td>\n",
              "    </tr>\n",
              "    <tr>\n",
              "      <th>3</th>\n",
              "      <td>2800</td>\n",
              "      <td>0.000200</td>\n",
              "      <td>0.1600</td>\n",
              "      <td>16.65</td>\n",
              "      <td>0</td>\n",
              "      <td>Red</td>\n",
              "      <td>M</td>\n",
              "    </tr>\n",
              "    <tr>\n",
              "      <th>4</th>\n",
              "      <td>1939</td>\n",
              "      <td>0.000138</td>\n",
              "      <td>0.1030</td>\n",
              "      <td>20.06</td>\n",
              "      <td>0</td>\n",
              "      <td>Red</td>\n",
              "      <td>M</td>\n",
              "    </tr>\n",
              "  </tbody>\n",
              "</table>\n",
              "</div>"
            ],
            "text/plain": [
              "   Temperature (K)  Luminosity(L/Lo)  ...  Star color  Spectral Class\n",
              "0             3068          0.002400  ...         Red               M\n",
              "1             3042          0.000500  ...         Red               M\n",
              "2             2600          0.000300  ...         Red               M\n",
              "3             2800          0.000200  ...         Red               M\n",
              "4             1939          0.000138  ...         Red               M\n",
              "\n",
              "[5 rows x 7 columns]"
            ]
          },
          "metadata": {
            "tags": []
          },
          "execution_count": 30
        }
      ]
    },
    {
      "cell_type": "code",
      "metadata": {
        "colab": {
          "base_uri": "https://localhost:8080/",
          "height": 288
        },
        "id": "5J_7-aBBFuEX",
        "outputId": "2923e91b-a049-4655-f39b-52213998c6a4"
      },
      "source": [
        "# Basic stats on data\n",
        "data.describe()"
      ],
      "execution_count": null,
      "outputs": [
        {
          "output_type": "execute_result",
          "data": {
            "text/html": [
              "<div>\n",
              "<style scoped>\n",
              "    .dataframe tbody tr th:only-of-type {\n",
              "        vertical-align: middle;\n",
              "    }\n",
              "\n",
              "    .dataframe tbody tr th {\n",
              "        vertical-align: top;\n",
              "    }\n",
              "\n",
              "    .dataframe thead th {\n",
              "        text-align: right;\n",
              "    }\n",
              "</style>\n",
              "<table border=\"1\" class=\"dataframe\">\n",
              "  <thead>\n",
              "    <tr style=\"text-align: right;\">\n",
              "      <th></th>\n",
              "      <th>Temperature (K)</th>\n",
              "      <th>Luminosity(L/Lo)</th>\n",
              "      <th>Radius(R/Ro)</th>\n",
              "      <th>Absolute magnitude(Mv)</th>\n",
              "      <th>Star type</th>\n",
              "    </tr>\n",
              "  </thead>\n",
              "  <tbody>\n",
              "    <tr>\n",
              "      <th>count</th>\n",
              "      <td>240.000000</td>\n",
              "      <td>240.000000</td>\n",
              "      <td>240.000000</td>\n",
              "      <td>240.000000</td>\n",
              "      <td>240.000000</td>\n",
              "    </tr>\n",
              "    <tr>\n",
              "      <th>mean</th>\n",
              "      <td>10497.462500</td>\n",
              "      <td>107188.361635</td>\n",
              "      <td>237.157781</td>\n",
              "      <td>4.382396</td>\n",
              "      <td>2.500000</td>\n",
              "    </tr>\n",
              "    <tr>\n",
              "      <th>std</th>\n",
              "      <td>9552.425037</td>\n",
              "      <td>179432.244940</td>\n",
              "      <td>517.155763</td>\n",
              "      <td>10.532512</td>\n",
              "      <td>1.711394</td>\n",
              "    </tr>\n",
              "    <tr>\n",
              "      <th>min</th>\n",
              "      <td>1939.000000</td>\n",
              "      <td>0.000080</td>\n",
              "      <td>0.008400</td>\n",
              "      <td>-11.920000</td>\n",
              "      <td>0.000000</td>\n",
              "    </tr>\n",
              "    <tr>\n",
              "      <th>25%</th>\n",
              "      <td>3344.250000</td>\n",
              "      <td>0.000865</td>\n",
              "      <td>0.102750</td>\n",
              "      <td>-6.232500</td>\n",
              "      <td>1.000000</td>\n",
              "    </tr>\n",
              "    <tr>\n",
              "      <th>50%</th>\n",
              "      <td>5776.000000</td>\n",
              "      <td>0.070500</td>\n",
              "      <td>0.762500</td>\n",
              "      <td>8.313000</td>\n",
              "      <td>2.500000</td>\n",
              "    </tr>\n",
              "    <tr>\n",
              "      <th>75%</th>\n",
              "      <td>15055.500000</td>\n",
              "      <td>198050.000000</td>\n",
              "      <td>42.750000</td>\n",
              "      <td>13.697500</td>\n",
              "      <td>4.000000</td>\n",
              "    </tr>\n",
              "    <tr>\n",
              "      <th>max</th>\n",
              "      <td>40000.000000</td>\n",
              "      <td>849420.000000</td>\n",
              "      <td>1948.500000</td>\n",
              "      <td>20.060000</td>\n",
              "      <td>5.000000</td>\n",
              "    </tr>\n",
              "  </tbody>\n",
              "</table>\n",
              "</div>"
            ],
            "text/plain": [
              "       Temperature (K)  Luminosity(L/Lo)  ...  Absolute magnitude(Mv)   Star type\n",
              "count       240.000000        240.000000  ...              240.000000  240.000000\n",
              "mean      10497.462500     107188.361635  ...                4.382396    2.500000\n",
              "std        9552.425037     179432.244940  ...               10.532512    1.711394\n",
              "min        1939.000000          0.000080  ...              -11.920000    0.000000\n",
              "25%        3344.250000          0.000865  ...               -6.232500    1.000000\n",
              "50%        5776.000000          0.070500  ...                8.313000    2.500000\n",
              "75%       15055.500000     198050.000000  ...               13.697500    4.000000\n",
              "max       40000.000000     849420.000000  ...               20.060000    5.000000\n",
              "\n",
              "[8 rows x 5 columns]"
            ]
          },
          "metadata": {
            "tags": []
          },
          "execution_count": 31
        }
      ]
    },
    {
      "cell_type": "code",
      "metadata": {
        "id": "fmg_6vlU8DXQ"
      },
      "source": [
        "#data_columns = data.columns"
      ],
      "execution_count": null,
      "outputs": []
    },
    {
      "cell_type": "markdown",
      "metadata": {
        "id": "4UFA0eg8_Hgl"
      },
      "source": [
        "## Data Cleaning"
      ]
    },
    {
      "cell_type": "markdown",
      "metadata": {
        "id": "JYigh4Q-FKll"
      },
      "source": [
        "Check for null values and check dimensions"
      ]
    },
    {
      "cell_type": "code",
      "metadata": {
        "colab": {
          "base_uri": "https://localhost:8080/"
        },
        "id": "e7TXF9xzXzgl",
        "outputId": "46ce91ec-b02e-49be-d474-2cfba6b509ff"
      },
      "source": [
        "print(data.isnull().sum())\n",
        "print(data.shape)"
      ],
      "execution_count": null,
      "outputs": [
        {
          "output_type": "stream",
          "text": [
            "Temperature (K)           0\n",
            "Luminosity(L/Lo)          0\n",
            "Radius(R/Ro)              0\n",
            "Absolute magnitude(Mv)    0\n",
            "Star type                 0\n",
            "Star color                0\n",
            "Spectral Class            0\n",
            "dtype: int64\n",
            "(240, 7)\n"
          ],
          "name": "stdout"
        }
      ]
    },
    {
      "cell_type": "code",
      "metadata": {
        "colab": {
          "base_uri": "https://localhost:8080/",
          "height": 198
        },
        "id": "PoV5O70UubnT",
        "outputId": "07ea6ca2-761a-4901-ea6a-f7eb14e5c5cd"
      },
      "source": [
        "# Replace non-numerical data with numerical data\n",
        "data.replace([\"Orange\", \"Orange-Red\", \"Red\", \"Blue\", \"Blue \", \"Blue White\", \"Blue white \", \"Blue white\", \"Blue-white\", \"Blue-White\", \"White\", \"white\", \"Whitish\", \"White-Yellow\", \"Yellowish White\", \"Pale yellow orange\", \"yellow-white\", \"yellowish\", \"Yellowish\"], [0, 1, 2, 3, 3, 4, 4, 4, 4, 4, 5, 5, 6, 7, 8, 9, 8, 10, 10], inplace = True)\n",
        "data.replace([\"O\", \"B\", \"A\", \"F\", \"G\", \"K\", \"M\"], [1, 2, 3, 4, 5, 6, 7], inplace = True)\n",
        "data.head()"
      ],
      "execution_count": null,
      "outputs": [
        {
          "output_type": "execute_result",
          "data": {
            "text/html": [
              "<div>\n",
              "<style scoped>\n",
              "    .dataframe tbody tr th:only-of-type {\n",
              "        vertical-align: middle;\n",
              "    }\n",
              "\n",
              "    .dataframe tbody tr th {\n",
              "        vertical-align: top;\n",
              "    }\n",
              "\n",
              "    .dataframe thead th {\n",
              "        text-align: right;\n",
              "    }\n",
              "</style>\n",
              "<table border=\"1\" class=\"dataframe\">\n",
              "  <thead>\n",
              "    <tr style=\"text-align: right;\">\n",
              "      <th></th>\n",
              "      <th>Temperature (K)</th>\n",
              "      <th>Luminosity(L/Lo)</th>\n",
              "      <th>Radius(R/Ro)</th>\n",
              "      <th>Absolute magnitude(Mv)</th>\n",
              "      <th>Star type</th>\n",
              "      <th>Star color</th>\n",
              "      <th>Spectral Class</th>\n",
              "    </tr>\n",
              "  </thead>\n",
              "  <tbody>\n",
              "    <tr>\n",
              "      <th>0</th>\n",
              "      <td>3068</td>\n",
              "      <td>0.002400</td>\n",
              "      <td>0.1700</td>\n",
              "      <td>16.12</td>\n",
              "      <td>0</td>\n",
              "      <td>2</td>\n",
              "      <td>7</td>\n",
              "    </tr>\n",
              "    <tr>\n",
              "      <th>1</th>\n",
              "      <td>3042</td>\n",
              "      <td>0.000500</td>\n",
              "      <td>0.1542</td>\n",
              "      <td>16.60</td>\n",
              "      <td>0</td>\n",
              "      <td>2</td>\n",
              "      <td>7</td>\n",
              "    </tr>\n",
              "    <tr>\n",
              "      <th>2</th>\n",
              "      <td>2600</td>\n",
              "      <td>0.000300</td>\n",
              "      <td>0.1020</td>\n",
              "      <td>18.70</td>\n",
              "      <td>0</td>\n",
              "      <td>2</td>\n",
              "      <td>7</td>\n",
              "    </tr>\n",
              "    <tr>\n",
              "      <th>3</th>\n",
              "      <td>2800</td>\n",
              "      <td>0.000200</td>\n",
              "      <td>0.1600</td>\n",
              "      <td>16.65</td>\n",
              "      <td>0</td>\n",
              "      <td>2</td>\n",
              "      <td>7</td>\n",
              "    </tr>\n",
              "    <tr>\n",
              "      <th>4</th>\n",
              "      <td>1939</td>\n",
              "      <td>0.000138</td>\n",
              "      <td>0.1030</td>\n",
              "      <td>20.06</td>\n",
              "      <td>0</td>\n",
              "      <td>2</td>\n",
              "      <td>7</td>\n",
              "    </tr>\n",
              "  </tbody>\n",
              "</table>\n",
              "</div>"
            ],
            "text/plain": [
              "   Temperature (K)  Luminosity(L/Lo)  ...  Star color  Spectral Class\n",
              "0             3068          0.002400  ...           2               7\n",
              "1             3042          0.000500  ...           2               7\n",
              "2             2600          0.000300  ...           2               7\n",
              "3             2800          0.000200  ...           2               7\n",
              "4             1939          0.000138  ...           2               7\n",
              "\n",
              "[5 rows x 7 columns]"
            ]
          },
          "metadata": {
            "tags": []
          },
          "execution_count": 34
        }
      ]
    },
    {
      "cell_type": "markdown",
      "metadata": {
        "id": "BcLUVRHl7Ah9"
      },
      "source": [
        "## Data Standardization"
      ]
    },
    {
      "cell_type": "code",
      "metadata": {
        "colab": {
          "base_uri": "https://localhost:8080/",
          "height": 198
        },
        "id": "aAza8w7U9cJp",
        "outputId": "45acc202-f14a-4967-de02-c5e5df2b6f39"
      },
      "source": [
        "# z-score standardization: https://www.analyticsvidhya.com/blog/2016/07/practical-guide-data-preprocessing-python-scikit-learn/\n",
        "data['Temperature (K)'] = ((data['Temperature (K)'] - data['Temperature (K)'].mean()) / data['Temperature (K)'].std()).astype('float32')\n",
        "data['Luminosity(L/Lo)'] = ((data['Luminosity(L/Lo)'] - data['Luminosity(L/Lo)'].mean()) / data['Luminosity(L/Lo)'].std()).astype('float32')\n",
        "data['Radius(R/Ro)'] = ((data['Radius(R/Ro)'] - data['Radius(R/Ro)'].mean()) / data['Radius(R/Ro)'].std()).astype('float32')\n",
        "data['Absolute magnitude(Mv)'] = ((data['Absolute magnitude(Mv)'] - data['Absolute magnitude(Mv)'].mean()) / data['Absolute magnitude(Mv)'].std()).astype('float32')\n",
        "data.head()"
      ],
      "execution_count": null,
      "outputs": [
        {
          "output_type": "execute_result",
          "data": {
            "text/html": [
              "<div>\n",
              "<style scoped>\n",
              "    .dataframe tbody tr th:only-of-type {\n",
              "        vertical-align: middle;\n",
              "    }\n",
              "\n",
              "    .dataframe tbody tr th {\n",
              "        vertical-align: top;\n",
              "    }\n",
              "\n",
              "    .dataframe thead th {\n",
              "        text-align: right;\n",
              "    }\n",
              "</style>\n",
              "<table border=\"1\" class=\"dataframe\">\n",
              "  <thead>\n",
              "    <tr style=\"text-align: right;\">\n",
              "      <th></th>\n",
              "      <th>Temperature (K)</th>\n",
              "      <th>Luminosity(L/Lo)</th>\n",
              "      <th>Radius(R/Ro)</th>\n",
              "      <th>Absolute magnitude(Mv)</th>\n",
              "      <th>Star type</th>\n",
              "      <th>Star color</th>\n",
              "      <th>Spectral Class</th>\n",
              "    </tr>\n",
              "  </thead>\n",
              "  <tbody>\n",
              "    <tr>\n",
              "      <th>0</th>\n",
              "      <td>-0.777757</td>\n",
              "      <td>-0.597375</td>\n",
              "      <td>-0.458252</td>\n",
              "      <td>1.114416</td>\n",
              "      <td>0</td>\n",
              "      <td>2</td>\n",
              "      <td>7</td>\n",
              "    </tr>\n",
              "    <tr>\n",
              "      <th>1</th>\n",
              "      <td>-0.780479</td>\n",
              "      <td>-0.597375</td>\n",
              "      <td>-0.458283</td>\n",
              "      <td>1.159990</td>\n",
              "      <td>0</td>\n",
              "      <td>2</td>\n",
              "      <td>7</td>\n",
              "    </tr>\n",
              "    <tr>\n",
              "      <th>2</th>\n",
              "      <td>-0.826750</td>\n",
              "      <td>-0.597375</td>\n",
              "      <td>-0.458384</td>\n",
              "      <td>1.359372</td>\n",
              "      <td>0</td>\n",
              "      <td>2</td>\n",
              "      <td>7</td>\n",
              "    </tr>\n",
              "    <tr>\n",
              "      <th>3</th>\n",
              "      <td>-0.805812</td>\n",
              "      <td>-0.597375</td>\n",
              "      <td>-0.458272</td>\n",
              "      <td>1.164737</td>\n",
              "      <td>0</td>\n",
              "      <td>2</td>\n",
              "      <td>7</td>\n",
              "    </tr>\n",
              "    <tr>\n",
              "      <th>4</th>\n",
              "      <td>-0.895947</td>\n",
              "      <td>-0.597375</td>\n",
              "      <td>-0.458382</td>\n",
              "      <td>1.488496</td>\n",
              "      <td>0</td>\n",
              "      <td>2</td>\n",
              "      <td>7</td>\n",
              "    </tr>\n",
              "  </tbody>\n",
              "</table>\n",
              "</div>"
            ],
            "text/plain": [
              "   Temperature (K)  Luminosity(L/Lo)  ...  Star color  Spectral Class\n",
              "0        -0.777757         -0.597375  ...           2               7\n",
              "1        -0.780479         -0.597375  ...           2               7\n",
              "2        -0.826750         -0.597375  ...           2               7\n",
              "3        -0.805812         -0.597375  ...           2               7\n",
              "4        -0.895947         -0.597375  ...           2               7\n",
              "\n",
              "[5 rows x 7 columns]"
            ]
          },
          "metadata": {
            "tags": []
          },
          "execution_count": 35
        }
      ]
    },
    {
      "cell_type": "code",
      "metadata": {
        "colab": {
          "base_uri": "https://localhost:8080/"
        },
        "id": "5ZbaR63YOmvl",
        "outputId": "52287095-561a-4de0-a48b-6e04f1cab180"
      },
      "source": [
        "# Number of features (columns)\n",
        "num_features = data.shape[1]\n",
        "num_features"
      ],
      "execution_count": null,
      "outputs": [
        {
          "output_type": "execute_result",
          "data": {
            "text/plain": [
              "7"
            ]
          },
          "metadata": {
            "tags": []
          },
          "execution_count": 36
        }
      ]
    },
    {
      "cell_type": "markdown",
      "metadata": {
        "id": "8BTYlexw7LIU"
      },
      "source": [
        "## Data Splitting"
      ]
    },
    {
      "cell_type": "code",
      "metadata": {
        "id": "1QbHmsZ2RGXg"
      },
      "source": [
        "# Feeding to the model\n",
        "data_model = data.sample(frac = 0.9)\n",
        "\n",
        "# Testing the model\n",
        "data_predict = data.drop(data_model.index)\n",
        "\n",
        "# Split into x and y (input and output)\n",
        "data_predict_x = np.array(data_predict.drop(['Star type'],1))\n",
        "data_predict_y = np.array(data_predict['Star type'])"
      ],
      "execution_count": null,
      "outputs": []
    },
    {
      "cell_type": "code",
      "metadata": {
        "id": "NpUw9FpSDGtk"
      },
      "source": [
        "import sklearn\n",
        "from sklearn.model_selection import train_test_split\n",
        "# Main x and y (for the model)\n",
        "x = np.array(data_model.drop(['Star type'],1))\n",
        "y = np.array(data_model['Star type'])\n",
        "# Split into 4 buckets for training and testing\n",
        "x_train, x_test, y_train, y_test = sklearn.model_selection.train_test_split(x, y, test_size=0.2)"
      ],
      "execution_count": null,
      "outputs": []
    },
    {
      "cell_type": "code",
      "metadata": {
        "id": "tsdzCn9ir7ZA"
      },
      "source": [
        "from keras.utils import to_categorical\n",
        "import tensorflow as tf\n",
        "# Convert to tensor (may not be needed in your case)\n",
        "y_train = to_categorical(y_train)\n",
        "y_test = to_categorical(y_test)\n",
        "\n",
        "x_train = tf.convert_to_tensor(x_train, dtype=tf.float32)\n",
        "y_train = tf.convert_to_tensor(y_train, dtype=tf.float32)"
      ],
      "execution_count": null,
      "outputs": []
    },
    {
      "cell_type": "markdown",
      "metadata": {
        "id": "jikRFMD97O77"
      },
      "source": [
        "## Model Creation"
      ]
    },
    {
      "cell_type": "code",
      "metadata": {
        "id": "jQ1FjnABOoth"
      },
      "source": [
        "import keras\n",
        "from keras.models import Sequential\n",
        "from keras.layers import Dense\n",
        "# define classification model\n",
        "def classification_model():\n",
        "    # create model\n",
        "    model = Sequential()\n",
        "    model.add(Dense(num_features, activation='relu', input_shape=(6,)))\n",
        "    model.add(Dense(128, activation='relu'))\n",
        "    model.add(Dense(6, activation='softmax'))\n",
        "    # compile model\n",
        "    model.compile(optimizer='adam', loss='categorical_crossentropy', metrics=['accuracy'])\n",
        "    return model"
      ],
      "execution_count": null,
      "outputs": []
    },
    {
      "cell_type": "markdown",
      "metadata": {
        "id": "yE_KEFCe7ikj"
      },
      "source": [
        "## Training Model"
      ]
    },
    {
      "cell_type": "code",
      "metadata": {
        "id": "2zXMwUZoO809",
        "colab": {
          "base_uri": "https://localhost:8080/"
        },
        "outputId": "069772c7-7434-4972-b6c1-95e03a843b88"
      },
      "source": [
        "# build the model\n",
        "model = classification_model()\n",
        "\n",
        "# fit the model\n",
        "model.fit(x_train, y_train, validation_data=(x_test, y_test), epochs=50)\n",
        "\n",
        "# evaluate the model\n",
        "scores = model.evaluate(x_test, y_test)\n",
        "\n",
        "print('Accuracy: {}% \\n Error: {}'.format(scores[1]*100, 1 - scores[1])) "
      ],
      "execution_count": null,
      "outputs": [
        {
          "output_type": "stream",
          "text": [
            "Epoch 1/50\n",
            "6/6 [==============================] - 1s 41ms/step - loss: 1.9867 - accuracy: 0.1759 - val_loss: 1.7333 - val_accuracy: 0.3409\n",
            "Epoch 2/50\n",
            "6/6 [==============================] - 0s 12ms/step - loss: 1.7153 - accuracy: 0.3406 - val_loss: 1.6406 - val_accuracy: 0.2727\n",
            "Epoch 3/50\n",
            "6/6 [==============================] - 0s 10ms/step - loss: 1.5752 - accuracy: 0.4704 - val_loss: 1.5746 - val_accuracy: 0.5455\n",
            "Epoch 4/50\n",
            "6/6 [==============================] - 0s 8ms/step - loss: 1.4919 - accuracy: 0.6280 - val_loss: 1.4835 - val_accuracy: 0.5455\n",
            "Epoch 5/50\n",
            "6/6 [==============================] - 0s 8ms/step - loss: 1.4253 - accuracy: 0.5930 - val_loss: 1.3787 - val_accuracy: 0.5455\n",
            "Epoch 6/50\n",
            "6/6 [==============================] - 0s 9ms/step - loss: 1.3266 - accuracy: 0.6199 - val_loss: 1.2936 - val_accuracy: 0.5455\n",
            "Epoch 7/50\n",
            "6/6 [==============================] - 0s 10ms/step - loss: 1.2427 - accuracy: 0.6337 - val_loss: 1.2193 - val_accuracy: 0.5455\n",
            "Epoch 8/50\n",
            "6/6 [==============================] - 0s 9ms/step - loss: 1.1982 - accuracy: 0.6642 - val_loss: 1.1530 - val_accuracy: 0.6364\n",
            "Epoch 9/50\n",
            "6/6 [==============================] - 0s 10ms/step - loss: 1.1119 - accuracy: 0.7673 - val_loss: 1.1130 - val_accuracy: 0.7045\n",
            "Epoch 10/50\n",
            "6/6 [==============================] - 0s 9ms/step - loss: 1.0526 - accuracy: 0.8037 - val_loss: 1.0632 - val_accuracy: 0.7045\n",
            "Epoch 11/50\n",
            "6/6 [==============================] - 0s 9ms/step - loss: 0.9928 - accuracy: 0.8016 - val_loss: 1.0128 - val_accuracy: 0.7045\n",
            "Epoch 12/50\n",
            "6/6 [==============================] - 0s 9ms/step - loss: 0.9240 - accuracy: 0.8555 - val_loss: 0.9614 - val_accuracy: 0.7045\n",
            "Epoch 13/50\n",
            "6/6 [==============================] - 0s 9ms/step - loss: 0.8739 - accuracy: 0.8506 - val_loss: 0.9108 - val_accuracy: 0.7045\n",
            "Epoch 14/50\n",
            "6/6 [==============================] - 0s 9ms/step - loss: 0.8321 - accuracy: 0.8160 - val_loss: 0.8453 - val_accuracy: 0.7727\n",
            "Epoch 15/50\n",
            "6/6 [==============================] - 0s 9ms/step - loss: 0.7864 - accuracy: 0.9113 - val_loss: 0.8017 - val_accuracy: 0.8864\n",
            "Epoch 16/50\n",
            "6/6 [==============================] - 0s 9ms/step - loss: 0.7423 - accuracy: 0.8562 - val_loss: 0.7750 - val_accuracy: 0.6818\n",
            "Epoch 17/50\n",
            "6/6 [==============================] - 0s 9ms/step - loss: 0.7053 - accuracy: 0.8519 - val_loss: 0.7535 - val_accuracy: 0.7273\n",
            "Epoch 18/50\n",
            "6/6 [==============================] - 0s 9ms/step - loss: 0.6667 - accuracy: 0.8268 - val_loss: 0.7051 - val_accuracy: 0.7955\n",
            "Epoch 19/50\n",
            "6/6 [==============================] - 0s 9ms/step - loss: 0.6084 - accuracy: 0.8873 - val_loss: 0.6634 - val_accuracy: 0.9545\n",
            "Epoch 20/50\n",
            "6/6 [==============================] - 0s 10ms/step - loss: 0.5710 - accuracy: 0.9317 - val_loss: 0.6280 - val_accuracy: 0.9318\n",
            "Epoch 21/50\n",
            "6/6 [==============================] - 0s 10ms/step - loss: 0.5655 - accuracy: 0.9115 - val_loss: 0.6231 - val_accuracy: 0.7273\n",
            "Epoch 22/50\n",
            "6/6 [==============================] - 0s 9ms/step - loss: 0.5450 - accuracy: 0.8417 - val_loss: 0.5780 - val_accuracy: 0.8864\n",
            "Epoch 23/50\n",
            "6/6 [==============================] - 0s 9ms/step - loss: 0.5232 - accuracy: 0.8758 - val_loss: 0.5612 - val_accuracy: 0.8182\n",
            "Epoch 24/50\n",
            "6/6 [==============================] - 0s 9ms/step - loss: 0.4894 - accuracy: 0.8820 - val_loss: 0.5437 - val_accuracy: 0.7500\n",
            "Epoch 25/50\n",
            "6/6 [==============================] - 0s 9ms/step - loss: 0.4638 - accuracy: 0.8990 - val_loss: 0.5140 - val_accuracy: 0.9545\n",
            "Epoch 26/50\n",
            "6/6 [==============================] - 0s 10ms/step - loss: 0.4336 - accuracy: 0.9692 - val_loss: 0.5031 - val_accuracy: 0.9091\n",
            "Epoch 27/50\n",
            "6/6 [==============================] - 0s 9ms/step - loss: 0.4325 - accuracy: 0.8991 - val_loss: 0.4861 - val_accuracy: 0.9091\n",
            "Epoch 28/50\n",
            "6/6 [==============================] - 0s 9ms/step - loss: 0.4025 - accuracy: 0.9564 - val_loss: 0.4538 - val_accuracy: 0.9545\n",
            "Epoch 29/50\n",
            "6/6 [==============================] - 0s 9ms/step - loss: 0.3734 - accuracy: 0.9839 - val_loss: 0.4481 - val_accuracy: 0.9091\n",
            "Epoch 30/50\n",
            "6/6 [==============================] - 0s 9ms/step - loss: 0.3382 - accuracy: 0.9266 - val_loss: 0.4337 - val_accuracy: 0.8409\n",
            "Epoch 31/50\n",
            "6/6 [==============================] - 0s 9ms/step - loss: 0.3632 - accuracy: 0.9233 - val_loss: 0.4074 - val_accuracy: 0.9091\n",
            "Epoch 32/50\n",
            "6/6 [==============================] - 0s 10ms/step - loss: 0.3397 - accuracy: 0.9520 - val_loss: 0.3900 - val_accuracy: 0.9091\n",
            "Epoch 33/50\n",
            "6/6 [==============================] - 0s 11ms/step - loss: 0.3236 - accuracy: 0.9766 - val_loss: 0.3797 - val_accuracy: 0.9091\n",
            "Epoch 34/50\n",
            "6/6 [==============================] - 0s 9ms/step - loss: 0.3087 - accuracy: 0.9555 - val_loss: 0.3662 - val_accuracy: 0.9318\n",
            "Epoch 35/50\n",
            "6/6 [==============================] - 0s 9ms/step - loss: 0.3061 - accuracy: 0.9727 - val_loss: 0.3531 - val_accuracy: 0.9545\n",
            "Epoch 36/50\n",
            "6/6 [==============================] - 0s 9ms/step - loss: 0.2930 - accuracy: 0.9649 - val_loss: 0.3448 - val_accuracy: 0.9318\n",
            "Epoch 37/50\n",
            "6/6 [==============================] - 0s 9ms/step - loss: 0.2807 - accuracy: 0.9569 - val_loss: 0.3329 - val_accuracy: 0.9091\n",
            "Epoch 38/50\n",
            "6/6 [==============================] - 0s 9ms/step - loss: 0.2816 - accuracy: 0.9801 - val_loss: 0.3169 - val_accuracy: 0.9545\n",
            "Epoch 39/50\n",
            "6/6 [==============================] - 0s 10ms/step - loss: 0.2559 - accuracy: 0.9926 - val_loss: 0.3076 - val_accuracy: 0.9318\n",
            "Epoch 40/50\n",
            "6/6 [==============================] - 0s 11ms/step - loss: 0.2649 - accuracy: 0.9718 - val_loss: 0.3052 - val_accuracy: 0.9091\n",
            "Epoch 41/50\n",
            "6/6 [==============================] - 0s 9ms/step - loss: 0.2458 - accuracy: 0.9711 - val_loss: 0.2821 - val_accuracy: 0.9545\n",
            "Epoch 42/50\n",
            "6/6 [==============================] - 0s 8ms/step - loss: 0.2399 - accuracy: 0.9912 - val_loss: 0.2838 - val_accuracy: 0.9318\n",
            "Epoch 43/50\n",
            "6/6 [==============================] - 0s 9ms/step - loss: 0.2361 - accuracy: 0.9856 - val_loss: 0.2719 - val_accuracy: 0.9318\n",
            "Epoch 44/50\n",
            "6/6 [==============================] - 0s 8ms/step - loss: 0.2236 - accuracy: 0.9657 - val_loss: 0.2783 - val_accuracy: 0.9091\n",
            "Epoch 45/50\n",
            "6/6 [==============================] - 0s 8ms/step - loss: 0.2194 - accuracy: 0.9652 - val_loss: 0.2526 - val_accuracy: 0.9545\n",
            "Epoch 46/50\n",
            "6/6 [==============================] - 0s 8ms/step - loss: 0.2072 - accuracy: 0.9963 - val_loss: 0.2424 - val_accuracy: 0.9545\n",
            "Epoch 47/50\n",
            "6/6 [==============================] - 0s 8ms/step - loss: 0.1946 - accuracy: 0.9926 - val_loss: 0.2395 - val_accuracy: 0.9773\n",
            "Epoch 48/50\n",
            "6/6 [==============================] - 0s 9ms/step - loss: 0.2038 - accuracy: 0.9886 - val_loss: 0.2371 - val_accuracy: 0.9545\n",
            "Epoch 49/50\n",
            "6/6 [==============================] - 0s 9ms/step - loss: 0.1936 - accuracy: 0.9849 - val_loss: 0.2276 - val_accuracy: 0.9545\n",
            "Epoch 50/50\n",
            "6/6 [==============================] - 0s 10ms/step - loss: 0.1996 - accuracy: 0.9926 - val_loss: 0.2174 - val_accuracy: 0.9773\n",
            "2/2 [==============================] - 0s 5ms/step - loss: 0.2174 - accuracy: 0.9773\n",
            "Accuracy: 97.72727489471436% \n",
            " Error: 0.022727251052856445\n"
          ],
          "name": "stdout"
        }
      ]
    },
    {
      "cell_type": "markdown",
      "metadata": {
        "id": "bFHeJwRh7pAL"
      },
      "source": [
        "## Evaluating Model"
      ]
    },
    {
      "cell_type": "code",
      "metadata": {
        "colab": {
          "base_uri": "https://localhost:8080/"
        },
        "id": "LgoWVhrA2LWy",
        "outputId": "bf05811a-7edb-46f0-df24-bb259e55b967"
      },
      "source": [
        "# 0 -> Brown Dwarf 1-> Red Dwarf 2 -> White Dwarf 3-> Main Sequence 4 -> Supergiant 5 -> Hypergiant\n",
        "result = [\"Brown Dwarf\", \"Red Dwarf\", \"White Dwarf\", \"Main Sequence\", \"Supergiant\", \"Hypergiant\"]\n",
        "predicted = model.predict(data_predict_x)\n",
        "for i in range(len(data_predict_y)):\n",
        "  print(\"Actual:\", result[data_predict_y[i]], \"Predicted:\", result[np.argmax(predicted[i])],\"\\n\")"
      ],
      "execution_count": null,
      "outputs": [
        {
          "output_type": "stream",
          "text": [
            "Actual: Brown Dwarf Predicted: Brown Dwarf \n",
            "\n",
            "Actual: Red Dwarf Predicted: Red Dwarf \n",
            "\n",
            "Actual: White Dwarf Predicted: White Dwarf \n",
            "\n",
            "Actual: Main Sequence Predicted: Main Sequence \n",
            "\n",
            "Actual: Supergiant Predicted: Supergiant \n",
            "\n",
            "Actual: Brown Dwarf Predicted: Brown Dwarf \n",
            "\n",
            "Actual: Red Dwarf Predicted: Red Dwarf \n",
            "\n",
            "Actual: White Dwarf Predicted: White Dwarf \n",
            "\n",
            "Actual: White Dwarf Predicted: White Dwarf \n",
            "\n",
            "Actual: Main Sequence Predicted: Red Dwarf \n",
            "\n",
            "Actual: Supergiant Predicted: Supergiant \n",
            "\n",
            "Actual: Supergiant Predicted: Supergiant \n",
            "\n",
            "Actual: Hypergiant Predicted: Hypergiant \n",
            "\n",
            "Actual: Brown Dwarf Predicted: Brown Dwarf \n",
            "\n",
            "Actual: Red Dwarf Predicted: Red Dwarf \n",
            "\n",
            "Actual: White Dwarf Predicted: White Dwarf \n",
            "\n",
            "Actual: Supergiant Predicted: Supergiant \n",
            "\n",
            "Actual: Brown Dwarf Predicted: Brown Dwarf \n",
            "\n",
            "Actual: Brown Dwarf Predicted: Brown Dwarf \n",
            "\n",
            "Actual: Red Dwarf Predicted: Red Dwarf \n",
            "\n",
            "Actual: White Dwarf Predicted: White Dwarf \n",
            "\n",
            "Actual: Supergiant Predicted: Supergiant \n",
            "\n",
            "Actual: Hypergiant Predicted: Hypergiant \n",
            "\n",
            "Actual: Hypergiant Predicted: Hypergiant \n",
            "\n"
          ],
          "name": "stdout"
        }
      ]
    },
    {
      "cell_type": "code",
      "metadata": {
        "id": "m6U2xw2aXdNs"
      },
      "source": [
        "#print(\"Actual:\", result[np.where(data_predict_y[i] == 1)[0][0]], \"Predicted:\", result[np.argmax(predicted[i])],\"\\n\")"
      ],
      "execution_count": null,
      "outputs": []
    }
  ]
}